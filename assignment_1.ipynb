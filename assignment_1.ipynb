{
 "cells": [
  {
   "cell_type": "markdown",
   "metadata": {},
   "source": [
    "# WE, THE PEOPLE OF INDIA,\n",
    "    having solemnly resolved the constitution India into a SOVEREIGN, ! \n",
    "        SOCIALIST, SECULAR AND DEMOCRATIC REPUBLIC \n",
    "        and to secure all its citizens"
   ]
  },
  {
   "cell_type": "code",
   "execution_count": null,
   "metadata": {},
   "outputs": [],
   "source": [
    "#Task 1:2\n",
    "a = 2000\n",
    "b = 3400\n",
    "c = []\n",
    "while a < b:\n",
    "     if a % 7 == 0 and a % 5 != 0:\n",
    "         c.append(a)\n",
    "a += 1\n",
    "print(c)"
   ]
  },
  {
   "cell_type": "code",
   "execution_count": null,
   "metadata": {},
   "outputs": [],
   "source": [
    "# Task 1:3\n",
    "Fname = input('Enter your first name:')\n",
    "Lname = input('Enter your Last name:')\n",
    "answer =Lname  +'\\t'+  Fname\n",
    "print(answer[::-1])\n"
   ]
  },
  {
   "cell_type": "code",
   "execution_count": null,
   "metadata": {},
   "outputs": [],
   "source": [
    "#Task 1:4\n",
    "r = 6*6*6\n",
    "pi= 3.14\n",
    "con = 4/3\n",
    "ans = con * pi * r\n",
    "print(ans)"
   ]
  },
  {
   "cell_type": "code",
   "execution_count": null,
   "metadata": {},
   "outputs": [],
   "source": [
    "# Task 2:1\n",
    "inputstr= input ('Enter comma separted string')\n",
    "outputstr= inputstr.split(\",\")\n",
    "print(outputstr)\n"
   ]
  },
  {
   "cell_type": "code",
   "execution_count": null,
   "metadata": {},
   "outputs": [],
   "source": [
    "#Task 2:2\n",
    "for i in range(0, 5):\n",
    "    for j in range(0, i + 1):\n",
    "        print(\"* \", end=\"\")\n",
    "    print(\"\\r\")\n",
    "for x in range(4,0,-1):\n",
    "    for y in range(1, x + 1):\n",
    "        print(\"* \", end=\"\")\n",
    "    print(\"\\r\")"
   ]
  },
  {
   "cell_type": "code",
   "execution_count": null,
   "metadata": {},
   "outputs": [],
   "source": [
    "#Task 2:3\n",
    "Value = input('Enter:')\n",
    "print(Value[::-1])"
   ]
  }
 ],
 "metadata": {
  "kernelspec": {
   "display_name": "Python 3",
   "language": "python",
   "name": "python3"
  },
  "language_info": {
   "codemirror_mode": {
    "name": "ipython",
    "version": 3
   },
   "file_extension": ".py",
   "mimetype": "text/x-python",
   "name": "python",
   "nbconvert_exporter": "python",
   "pygments_lexer": "ipython3",
   "version": "3.7.3"
  }
 },
 "nbformat": 4,
 "nbformat_minor": 2
}
